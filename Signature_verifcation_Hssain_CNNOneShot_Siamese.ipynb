{
  "nbformat": 4,
  "nbformat_minor": 0,
  "metadata": {
    "accelerator": "GPU",
    "colab": {
      "name": "Signature_verifcation_Hssain_CNNOneShot-Siamese.ipynb",
      "provenance": [],
      "collapsed_sections": []
    },
    "kernelspec": {
      "display_name": "Python 3",
      "name": "python3"
    }
  },
  "cells": [
    {
      "cell_type": "code",
      "metadata": {
        "colab": {
          "base_uri": "https://localhost:8080/"
        },
        "id": "wpDT6WBI4di4",
        "outputId": "6e6f79a9-0190-4c7e-b8b7-a47a1f82f2a5"
      },
      "source": [
        "!pip install kaggle"
      ],
      "execution_count": null,
      "outputs": [
        {
          "output_type": "stream",
          "text": [
            "Requirement already satisfied: kaggle in /usr/local/lib/python3.6/dist-packages (1.5.10)\n",
            "Requirement already satisfied: urllib3 in /usr/local/lib/python3.6/dist-packages (from kaggle) (1.24.3)\n",
            "Requirement already satisfied: requests in /usr/local/lib/python3.6/dist-packages (from kaggle) (2.23.0)\n",
            "Requirement already satisfied: six>=1.10 in /usr/local/lib/python3.6/dist-packages (from kaggle) (1.15.0)\n",
            "Requirement already satisfied: tqdm in /usr/local/lib/python3.6/dist-packages (from kaggle) (4.41.1)\n",
            "Requirement already satisfied: python-slugify in /usr/local/lib/python3.6/dist-packages (from kaggle) (4.0.1)\n",
            "Requirement already satisfied: certifi in /usr/local/lib/python3.6/dist-packages (from kaggle) (2020.12.5)\n",
            "Requirement already satisfied: python-dateutil in /usr/local/lib/python3.6/dist-packages (from kaggle) (2.8.1)\n",
            "Requirement already satisfied: chardet<4,>=3.0.2 in /usr/local/lib/python3.6/dist-packages (from requests->kaggle) (3.0.4)\n",
            "Requirement already satisfied: idna<3,>=2.5 in /usr/local/lib/python3.6/dist-packages (from requests->kaggle) (2.10)\n",
            "Requirement already satisfied: text-unidecode>=1.3 in /usr/local/lib/python3.6/dist-packages (from python-slugify->kaggle) (1.3)\n"
          ],
          "name": "stdout"
        }
      ]
    },
    {
      "cell_type": "code",
      "metadata": {
        "colab": {
          "resources": {
            "http://localhost:8080/nbextensions/google.colab/files.js": {
              "data": "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",
              "headers": [
                [
                  "content-type",
                  "application/javascript"
                ]
              ],
              "ok": true,
              "status": 200,
              "status_text": ""
            }
          },
          "base_uri": "https://localhost:8080/",
          "height": 90
        },
        "id": "aZ7Z326A4hTe",
        "outputId": "b8c1da5b-d660-4232-d9c4-c509c2fda77b"
      },
      "source": [
        "from google.colab import files\r\n",
        "files.upload()"
      ],
      "execution_count": null,
      "outputs": [
        {
          "output_type": "display_data",
          "data": {
            "text/html": [
              "\n",
              "     <input type=\"file\" id=\"files-26bf06f4-18db-4833-9067-cd70ae0d6c1f\" name=\"files[]\" multiple disabled\n",
              "        style=\"border:none\" />\n",
              "     <output id=\"result-26bf06f4-18db-4833-9067-cd70ae0d6c1f\">\n",
              "      Upload widget is only available when the cell has been executed in the\n",
              "      current browser session. Please rerun this cell to enable.\n",
              "      </output>\n",
              "      <script src=\"/nbextensions/google.colab/files.js\"></script> "
            ],
            "text/plain": [
              "<IPython.core.display.HTML object>"
            ]
          },
          "metadata": {
            "tags": []
          }
        },
        {
          "output_type": "stream",
          "text": [
            "Saving kaggle.json to kaggle.json\n"
          ],
          "name": "stdout"
        },
        {
          "output_type": "execute_result",
          "data": {
            "text/plain": [
              "{'kaggle.json': b'{\"username\":\"trythse3k3r\",\"key\":\"ceab88d17ac74170ecf8c829f0841a18\"}'}"
            ]
          },
          "metadata": {
            "tags": []
          },
          "execution_count": 7
        }
      ]
    },
    {
      "cell_type": "code",
      "metadata": {
        "colab": {
          "base_uri": "https://localhost:8080/"
        },
        "id": "sBb7jwpW4o0s",
        "outputId": "eded1e92-b2eb-4a89-9be5-19f98cc61446"
      },
      "source": [
        "!ls"
      ],
      "execution_count": null,
      "outputs": [
        {
          "output_type": "stream",
          "text": [
            "kaggle.json  sample_data\n"
          ],
          "name": "stdout"
        }
      ]
    },
    {
      "cell_type": "code",
      "metadata": {
        "id": "PFO1TiRe4tx1"
      },
      "source": [
        "!mkdir -p ~/.kaggle\r\n",
        "!cp kaggle.json ~/.kaggle/\r\n",
        "!chmod 600 ~/.kaggle/kaggle.json"
      ],
      "execution_count": null,
      "outputs": []
    },
    {
      "cell_type": "code",
      "metadata": {
        "colab": {
          "base_uri": "https://localhost:8080/"
        },
        "id": "P6Gu5GEV4ywN",
        "outputId": "7ea84092-6849-491b-9ba0-9a0864fd90db"
      },
      "source": [
        "!kaggle datasets download -d robinreni/signature-verification-dataset\r\n"
      ],
      "execution_count": null,
      "outputs": [
        {
          "output_type": "stream",
          "text": [
            "Downloading signature-verification-dataset.zip to /content\n",
            " 97% 585M/601M [00:05<00:00, 92.5MB/s]\n",
            "100% 601M/601M [00:05<00:00, 110MB/s] \n"
          ],
          "name": "stdout"
        }
      ]
    },
    {
      "cell_type": "code",
      "metadata": {
        "colab": {
          "base_uri": "https://localhost:8080/"
        },
        "id": "NbQ7D91D41ls",
        "outputId": "efa93a44-48d2-4249-b357-eadb7a1e1461"
      },
      "source": [
        "from zipfile import ZipFile\r\n",
        "file_name=\"signature-verification-dataset.zip\"\r\n",
        "with ZipFile(file_name,'r')as zip:\r\n",
        "  zip.extractall()\r\n",
        "  print('Done')"
      ],
      "execution_count": null,
      "outputs": [
        {
          "output_type": "stream",
          "text": [
            "Done\n"
          ],
          "name": "stdout"
        }
      ]
    },
    {
      "cell_type": "code",
      "metadata": {
        "id": "GQQ7Zbna48aR"
      },
      "source": [
        "import numpy as np \r\n",
        "import pandas as pd \r\n",
        "import os\r\n",
        "%matplotlib inline\r\n",
        "import torchvision\r\n",
        "import torchvision.datasets as dset\r\n",
        "import torchvision.transforms as transforms\r\n",
        "from torch.utils.data import DataLoader,Dataset\r\n",
        "import matplotlib.pyplot as plt\r\n",
        "import torchvision.utils\r\n",
        "import random\r\n",
        "from PIL import Image\r\n",
        "import torch\r\n",
        "from torch.autograd import Variable\r\n",
        "import torch.nn as nn\r\n",
        "from torch import optim\r\n",
        "import numpy as np # linear algebra\r\n",
        "import pandas as pd # data processing, CSV file I/O (e.g. pd.read_csv)\r\n",
        "import os\r\n",
        "import tensorflow as tf\r\n",
        "from tensorflow import keras\r\n",
        "import pandas as pd\r\n",
        "import numpy as np\r\n",
        "from keras import backend as K\r\n",
        "import cv2\r\n",
        "import matplotlib.pyplot as plt\r\n",
        "import torch.nn.functional as F"
      ],
      "execution_count": null,
      "outputs": []
    },
    {
      "cell_type": "code",
      "metadata": {
        "id": "iPiX32Yz5Fxq"
      },
      "source": [
        "train_dir=\"/content/sign_data/train\"\r\n",
        "train_csv=\"/content/sign_data/train_data.csv\"\r\n",
        "test_csv=\"/content/sign_data/test_data.csv\"\r\n",
        "test_dir=\"/content/sign_data/test\""
      ],
      "execution_count": null,
      "outputs": []
    },
    {
      "cell_type": "code",
      "metadata": {
        "colab": {
          "background_save": true
        },
        "id": "Kcq-2Tdm5go2"
      },
      "source": [
        "def dataset_train(train_csvfile):\r\n",
        "    x1=[]\r\n",
        "    x2=[]\r\n",
        "    y_train=[]\r\n",
        "    for i in range(0,2000):\r\n",
        "        image1_path=os.path.join(train_dir,train_csvfile.iat[i,0])\r\n",
        "        image2_path=os.path.join(train_dir,train_csvfile.iat[i,1])\r\n",
        "        img1=cv2.imread(image1_path)\r\n",
        "        img1= cv2.cvtColor(img1, cv2.COLOR_BGR2GRAY)\r\n",
        "        img1=cv2.resize(img1,(150,150))\r\n",
        "        x1.append(img1)\r\n",
        "        img2=cv2.imread(image2_path)\r\n",
        "        img2= cv2.cvtColor(img2, cv2.COLOR_BGR2GRAY)\r\n",
        "        img2=cv2.resize(img2,(150,150))\r\n",
        "        x2.append(img2)\r\n",
        "        y_train.append(train_csvfile.iat[i,2])\r\n",
        "        print(i)\r\n",
        "#         l.append([img1,img2,train_csvfile.iat[i,2]])\r\n",
        "    x1=np.array(x1).astype(np.float32)/255.0\r\n",
        "    x2=np.array(x2).astype(np.float32)/255.0\r\n",
        "    y_train=np.array(y_train).astype(np.float32)\r\n",
        "    \r\n",
        "    return x1,x2,y_train"
      ],
      "execution_count": null,
      "outputs": []
    },
    {
      "cell_type": "code",
      "metadata": {
        "id": "rovLv9ae5oM5"
      },
      "source": [
        "def dataset_test(test_csvfile):\r\n",
        "    x1=[]\r\n",
        "    x2=[]\r\n",
        "    y_train=[]\r\n",
        "    for i in range(0,3000):\r\n",
        "        image1_path=os.path.join(test_dir,test_csvfile.iat[i,0])\r\n",
        "        image2_path=os.path.join(test_dir,test_csvfile.iat[i,1])\r\n",
        "        img1=cv2.imread(image1_path)\r\n",
        "        img1=cv2.cvtColor(img1, cv2.COLOR_BGR2GRAY)\r\n",
        "        img1=cv2.resize(img1,(150,150))\r\n",
        "        x1.append(img1)\r\n",
        "        img2=cv2.imread(image2_path)\r\n",
        "        img2=cv2.cvtColor(img2, cv2.COLOR_BGR2GRAY)\r\n",
        "        img2=cv2.resize(img2,(150,150))\r\n",
        "        x2.append(img2)\r\n",
        "        y_train.append(test_csvfile.iat[i,2])\r\n",
        "        print(i)\r\n",
        "#         l.append([img1,img2,train_csvfile.iat[i,2]])\r\n",
        "    x1=np.array(x1).astype(np.float32)/255.0\r\n",
        "    x2=np.array(x2).astype(np.float32)/255.0\r\n",
        "    y_train=np.array(y_train).astype(np.float32)\r\n",
        "    \r\n",
        "    return x1,x2,y_train"
      ],
      "execution_count": null,
      "outputs": []
    },
    {
      "cell_type": "code",
      "metadata": {
        "id": "EYSVoNlr5wLI"
      },
      "source": [
        "df_test=pd.read_csv(test_csv)"
      ],
      "execution_count": null,
      "outputs": []
    },
    {
      "cell_type": "code",
      "metadata": {
        "id": "bo8tOCaY5yoH"
      },
      "source": [
        "xt1,xt2,yt=dataset_test(df_test)"
      ],
      "execution_count": null,
      "outputs": []
    },
    {
      "cell_type": "code",
      "metadata": {
        "id": "S-PJraJu-CkI"
      },
      "source": [
        "df_train=pd.read_csv(train_csv)"
      ],
      "execution_count": null,
      "outputs": []
    },
    {
      "cell_type": "code",
      "metadata": {
        "id": "yD28WfAH9Hp-"
      },
      "source": [
        "xs1,xs2,ys=dataset_train(df_train)"
      ],
      "execution_count": null,
      "outputs": []
    },
    {
      "cell_type": "code",
      "metadata": {
        "colab": {
          "base_uri": "https://localhost:8080/"
        },
        "id": "5RwkSkWU60Vu",
        "outputId": "eafbed53-e9ce-4252-95c0-b3de5b88e0e2"
      },
      "source": [
        "def dist1(xy):\r\n",
        "    x, y = xy\r\n",
        "    sum_abs = K.sum(K.abs(x - y), axis=1, keepdims=True)\r\n",
        "#     return sum_abs\r\n",
        "    return K.maximum(sum_abs, K.epsilon())\r\n",
        "def dist2(xy):\r\n",
        "    x,y=xy\r\n",
        "    sum_square=K.sum(K.square(x-y),axis=1,keepdims=True)\r\n",
        "    return K.sqrt(K.maximum(sum_square, K.epsilon()))\r\n",
        "\r\n",
        "def dist3(xy):\r\n",
        "    x,y=xy\r\n",
        "    return K.sqrt(K.mean(K.square(x-y),axis=1,keepdims=True))\r\n",
        "def dist4(xy):\r\n",
        "    x,y=xy\r\n",
        "    ss=K.sum(K.square(x-y),axis=1,keepdims=True)\r\n",
        "    return K.sqrt(ss)/x.shape[1]\r\n",
        "\r\n",
        "\r\n",
        "input1=keras.layers.Input(shape=(150,150,1))\r\n",
        "# x=keras.layers.Flatten()(input1)\r\n",
        "x=keras.layers.Conv2D(64,(10,10),activation='relu')(input1)\r\n",
        "x=keras.layers.MaxPooling2D(2,2)(x)\r\n",
        "x=keras.layers.Dropout(0.2)(x)\r\n",
        "x=keras.layers.Conv2D(128,(7,7),activation='relu')(x)\r\n",
        "x=keras.layers.MaxPooling2D(2,2)(x)\r\n",
        "x=keras.layers.Conv2D(128,(4,4),activation='relu')(x)\r\n",
        "x=keras.layers.MaxPooling2D(2,2)(x)\r\n",
        "x=keras.layers.Dropout(0.5)(x)\r\n",
        " x=keras.layers.Conv2D(258,(4,4),activation='relu')(x)\r\n",
        "x=keras.layers.MaxPooling2D(2,2)(x)\r\n",
        "x=keras.layers.Flatten()(x)\r\n",
        "x=keras.layers.Dense(4096,activation='relu')(x)\r\n",
        "x=keras.layers.Dense(500,activation='relu')(x)\r\n",
        "dense=keras.models.Model(inputs=input1,outputs=x)\r\n",
        "\r\n",
        "img1=keras.layers.Input(shape=(150,150,1))\r\n",
        "img2=keras.layers.Input(shape=(150,150,1))\r\n",
        "dense1=dense(img1)\r\n",
        "dense2=dense(img2)\r\n",
        "fc=keras.layers.Lambda(dist3)([dense1,dense2])\r\n",
        "fc=keras.layers.Dense(1,activation='sigmoid')(fc)\r\n",
        "\r\n",
        "m=keras.models.Model(inputs=[img1,img2],outputs=fc)\r\n",
        "\r\n",
        "m.compile(loss = \"binary_crossentropy\", optimizer=\"adam\", metrics=[\"accuracy\"])\r\n",
        "m.summary()\r\n"
      ],
      "execution_count": null,
      "outputs": [
        {
          "output_type": "stream",
          "text": [
            "Model: \"model_1\"\n",
            "__________________________________________________________________________________________________\n",
            "Layer (type)                    Output Shape         Param #     Connected to                     \n",
            "==================================================================================================\n",
            "input_2 (InputLayer)            [(None, 150, 150, 1) 0                                            \n",
            "__________________________________________________________________________________________________\n",
            "input_3 (InputLayer)            [(None, 150, 150, 1) 0                                            \n",
            "__________________________________________________________________________________________________\n",
            "model (Functional)              (None, 500)          69834164    input_2[0][0]                    \n",
            "                                                                 input_3[0][0]                    \n",
            "__________________________________________________________________________________________________\n",
            "lambda (Lambda)                 (None, 1)            0           model[0][0]                      \n",
            "                                                                 model[1][0]                      \n",
            "__________________________________________________________________________________________________\n",
            "dense_1 (Dense)                 (None, 1)            2           lambda[0][0]                     \n",
            "==================================================================================================\n",
            "Total params: 69,834,166\n",
            "Trainable params: 69,834,166\n",
            "Non-trainable params: 0\n",
            "__________________________________________________________________________________________________\n"
          ],
          "name": "stdout"
        }
      ]
    },
    {
      "cell_type": "code",
      "metadata": {
        "colab": {
          "base_uri": "https://localhost:8080/"
        },
        "id": "ATJ46IBf67-u",
        "outputId": "89303780-799c-4e28-db81-da83275aaed4"
      },
      "source": [
        "m.fit([xs1,xs2],ys,epochs=16)"
      ],
      "execution_count": null,
      "outputs": [
        {
          "output_type": "stream",
          "text": [
            "Epoch 1/16\n",
            "63/63 [==============================] - 15s 108ms/step - loss: 0.6933 - accuracy: 0.5437\n",
            "Epoch 2/16\n",
            "63/63 [==============================] - 7s 105ms/step - loss: 0.6447 - accuracy: 0.5217\n",
            "Epoch 3/16\n",
            "63/63 [==============================] - 7s 105ms/step - loss: 0.5586 - accuracy: 0.5349\n",
            "Epoch 4/16\n",
            "63/63 [==============================] - 7s 105ms/step - loss: 0.4786 - accuracy: 0.5490\n",
            "Epoch 5/16\n",
            "63/63 [==============================] - 7s 106ms/step - loss: 0.4493 - accuracy: 0.5635\n",
            "Epoch 6/16\n",
            "63/63 [==============================] - 7s 106ms/step - loss: 0.4104 - accuracy: 0.6918\n",
            "Epoch 7/16\n",
            "63/63 [==============================] - 7s 106ms/step - loss: 0.3700 - accuracy: 0.8051\n",
            "Epoch 8/16\n",
            "63/63 [==============================] - 7s 107ms/step - loss: 0.3448 - accuracy: 0.9042\n",
            "Epoch 9/16\n",
            "63/63 [==============================] - 7s 107ms/step - loss: 0.3125 - accuracy: 0.9407\n",
            "Epoch 10/16\n",
            "63/63 [==============================] - 7s 107ms/step - loss: 0.3018 - accuracy: 0.9620\n",
            "Epoch 11/16\n",
            "63/63 [==============================] - 7s 107ms/step - loss: 0.2967 - accuracy: 0.9697\n",
            "Epoch 12/16\n",
            "63/63 [==============================] - 7s 108ms/step - loss: 0.2675 - accuracy: 0.9818\n",
            "Epoch 13/16\n",
            "63/63 [==============================] - 7s 108ms/step - loss: 0.2656 - accuracy: 0.9944\n",
            "Epoch 14/16\n",
            "63/63 [==============================] - 7s 109ms/step - loss: 0.2479 - accuracy: 0.9964\n",
            "Epoch 15/16\n",
            "63/63 [==============================] - 7s 109ms/step - loss: 0.2381 - accuracy: 0.9956\n",
            "Epoch 16/16\n",
            "63/63 [==============================] - 7s 109ms/step - loss: 0.2282 - accuracy: 0.9991\n"
          ],
          "name": "stdout"
        },
        {
          "output_type": "execute_result",
          "data": {
            "text/plain": [
              "<tensorflow.python.keras.callbacks.History at 0x7f28e01622b0>"
            ]
          },
          "metadata": {
            "tags": []
          },
          "execution_count": 22
        }
      ]
    },
    {
      "cell_type": "code",
      "metadata": {
        "colab": {
          "base_uri": "https://localhost:8080/"
        },
        "id": "fNJDBtPo_GYt",
        "outputId": "934b0fa5-950e-4496-d445-4d3a4a221d2e"
      },
      "source": [
        "m.evaluate([xt1,xt2],yt)"
      ],
      "execution_count": null,
      "outputs": [
        {
          "output_type": "stream",
          "text": [
            "94/94 [==============================] - 3s 33ms/step - loss: 0.4244 - accuracy: 0.8230\n"
          ],
          "name": "stdout"
        },
        {
          "output_type": "execute_result",
          "data": {
            "text/plain": [
              "[0.4244031310081482, 0.8230000138282776]"
            ]
          },
          "metadata": {
            "tags": []
          },
          "execution_count": 23
        }
      ]
    }
  ]
}